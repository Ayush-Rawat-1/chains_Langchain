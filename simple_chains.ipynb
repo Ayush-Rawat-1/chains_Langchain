{
 "cells": [
  {
   "cell_type": "code",
   "execution_count": 1,
   "id": "8218c081",
   "metadata": {},
   "outputs": [
    {
     "data": {
      "text/plain": [
       "True"
      ]
     },
     "execution_count": 1,
     "metadata": {},
     "output_type": "execute_result"
    }
   ],
   "source": [
    "from langchain_groq import ChatGroq\n",
    "import os\n",
    "from dotenv import load_dotenv\n",
    "load_dotenv()"
   ]
  },
  {
   "cell_type": "code",
   "execution_count": 3,
   "id": "68c22ac6",
   "metadata": {},
   "outputs": [],
   "source": [
    "groq_api_key=os.getenv(\"GROQ_API_KEY\")\n",
    "os.environ[\"GROQ_API_KEY\"]=groq_api_key\n",
    "llm=ChatGroq(model=\"gemma2-9b-it\")"
   ]
  },
  {
   "cell_type": "code",
   "execution_count": 5,
   "id": "149302a5",
   "metadata": {},
   "outputs": [],
   "source": [
    "from langchain_core.prompts import PromptTemplate\n",
    "from langchain_core.output_parsers import StrOutputParser"
   ]
  },
  {
   "cell_type": "code",
   "execution_count": 7,
   "id": "b811a1e9",
   "metadata": {},
   "outputs": [
    {
     "data": {
      "text/plain": [
       "PromptTemplate(input_variables=['topic'], input_types={}, partial_variables={}, template='Genreate 5 facts about topic: {topic}')"
      ]
     },
     "execution_count": 7,
     "metadata": {},
     "output_type": "execute_result"
    }
   ],
   "source": [
    "prompt=PromptTemplate(\n",
    "    template=\"Genreate 5 facts about topic: {topic}\",\n",
    "    input_variables=[\"topic\"]\n",
    ")\n",
    "prompt"
   ]
  },
  {
   "cell_type": "code",
   "execution_count": 8,
   "id": "6cd974cd",
   "metadata": {},
   "outputs": [],
   "source": [
    "parser=StrOutputParser()"
   ]
  },
  {
   "cell_type": "code",
   "execution_count": 10,
   "id": "4ecd60a5",
   "metadata": {},
   "outputs": [],
   "source": [
    "# LCEL => langchain expression language\n",
    "#simple chain\n",
    "chain= prompt | llm | parser"
   ]
  },
  {
   "cell_type": "code",
   "execution_count": 11,
   "id": "2b2a6326",
   "metadata": {},
   "outputs": [
    {
     "data": {
      "text/plain": [
       "\"Here are five facts about India:\\n\\n1. **Home to the Taj Mahal:**  One of the Seven Wonders of the World, the Taj Mahal is an ivory-white marble mausoleum in Agra, built by Mughal emperor Shah Jahan in memory of his wife Mumtaz Mahal. \\n\\n2. **Largest democracy in the world:** India has the world's largest democratic system, with over 900 million eligible voters. \\n\\n3. **Rich in biodiversity:** India boasts incredible biodiversity, home to a vast array of flora and fauna, including tigers, elephants, and the one-horned rhinoceros. It is one of the 12 megadiverse countries in the world.\\n\\n4. **Languages galore:** Officially, India recognizes 22 scheduled languages, but there are over 19,500 languages and dialects spoken across the country. \\n\\n5. **Birthplace of yoga and meditation:**  Yoga and meditation originated in India thousands of years ago and have become increasingly popular worldwide as practices for physical and mental well-being.\\n\\n\\n\\n\""
      ]
     },
     "execution_count": 11,
     "metadata": {},
     "output_type": "execute_result"
    }
   ],
   "source": [
    "chain.invoke({\"topic\" : \"India\"})"
   ]
  },
  {
   "cell_type": "code",
   "execution_count": 16,
   "id": "1309cec1",
   "metadata": {},
   "outputs": [
    {
     "name": "stdout",
     "output_type": "stream",
     "text": [
      "     +-------------+       \n",
      "     | PromptInput |       \n",
      "     +-------------+       \n",
      "            *              \n",
      "            *              \n",
      "            *              \n",
      "    +----------------+     \n",
      "    | PromptTemplate |     \n",
      "    +----------------+     \n",
      "            *              \n",
      "            *              \n",
      "            *              \n",
      "      +----------+         \n",
      "      | ChatGroq |         \n",
      "      +----------+         \n",
      "            *              \n",
      "            *              \n",
      "            *              \n",
      "   +-----------------+     \n",
      "   | StrOutputParser |     \n",
      "   +-----------------+     \n",
      "            *              \n",
      "            *              \n",
      "            *              \n",
      "+-----------------------+  \n",
      "| StrOutputParserOutput |  \n",
      "+-----------------------+  \n"
     ]
    }
   ],
   "source": [
    "chain.get_graph().print_ascii()"
   ]
  },
  {
   "cell_type": "code",
   "execution_count": null,
   "id": "ed5904b6",
   "metadata": {},
   "outputs": [],
   "source": []
  }
 ],
 "metadata": {
  "kernelspec": {
   "display_name": "venv",
   "language": "python",
   "name": "python3"
  },
  "language_info": {
   "codemirror_mode": {
    "name": "ipython",
    "version": 3
   },
   "file_extension": ".py",
   "mimetype": "text/x-python",
   "name": "python",
   "nbconvert_exporter": "python",
   "pygments_lexer": "ipython3",
   "version": "3.12.11"
  }
 },
 "nbformat": 4,
 "nbformat_minor": 5
}

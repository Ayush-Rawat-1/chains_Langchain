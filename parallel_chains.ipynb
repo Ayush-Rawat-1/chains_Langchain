{
 "cells": [
  {
   "cell_type": "code",
   "execution_count": 1,
   "id": "4f51c1fd",
   "metadata": {},
   "outputs": [
    {
     "data": {
      "text/plain": [
       "True"
      ]
     },
     "execution_count": 1,
     "metadata": {},
     "output_type": "execute_result"
    }
   ],
   "source": [
    "from langchain_groq import ChatGroq\n",
    "import os\n",
    "from dotenv import load_dotenv\n",
    "load_dotenv()"
   ]
  },
  {
   "cell_type": "code",
   "execution_count": 3,
   "id": "052d9938",
   "metadata": {},
   "outputs": [],
   "source": [
    "groq_api_key=os.getenv(\"GROQ_API_KEY\")\n",
    "os.environ[\"GROQ_API_KEY\"]=groq_api_key\n",
    "model1=ChatGroq(model=\"gemma2-9b-it\")\n",
    "model2=ChatGroq(model=\"llama-3.1-8b-instant\")"
   ]
  },
  {
   "cell_type": "code",
   "execution_count": 5,
   "id": "3faeabe7",
   "metadata": {},
   "outputs": [],
   "source": [
    "from langchain_core.prompts import PromptTemplate\n",
    "\n",
    "# 1. Notes\n",
    "prompt1=PromptTemplate(\n",
    "    template=\"Generate short and simple notes on following text: {text}\",\n",
    "    input_variables=[\"text\"],\n",
    ")\n",
    "\n",
    "# 2. Quiz\n",
    "prompt2=PromptTemplate(\n",
    "    template=\"Generate 5 short question answers from following text: {text}\",\n",
    "    input_variables=[\"text\"],\n",
    ")\n",
    "\n",
    "# 3. Merge\n",
    "prompt3=PromptTemplate(\n",
    "    template=\"\"\"Merge the following notes and quiz into single docs.\n",
    "    Notes: {notes}\n",
    "    Quiz: {quiz}\n",
    "    \"\"\",\n",
    "    input_variables=[\"notes\",\"quiz\"]\n",
    ")"
   ]
  },
  {
   "cell_type": "code",
   "execution_count": 6,
   "id": "15e864a5",
   "metadata": {},
   "outputs": [],
   "source": [
    "from langchain_core.output_parsers import StrOutputParser\n",
    "\n",
    "parser=StrOutputParser()"
   ]
  },
  {
   "cell_type": "markdown",
   "id": "6db1a24f",
   "metadata": {},
   "source": [
    "RunnableParallel => helps in running multiple chain together"
   ]
  },
  {
   "cell_type": "code",
   "execution_count": 8,
   "id": "853ada4b",
   "metadata": {},
   "outputs": [],
   "source": [
    "from langchain.schema.runnable import RunnableParallel"
   ]
  },
  {
   "cell_type": "code",
   "execution_count": 10,
   "id": "f44dd39c",
   "metadata": {},
   "outputs": [],
   "source": [
    "# parallel chain\n",
    "parallel_chain=RunnableParallel({\n",
    "    'notes': prompt1 | model1 | parser,\n",
    "    'quiz' : prompt2 | model2 | parser \n",
    "})"
   ]
  },
  {
   "cell_type": "code",
   "execution_count": 11,
   "id": "2bfb3d1e",
   "metadata": {},
   "outputs": [],
   "source": [
    "# final sequential chain\n",
    "merge_chain = prompt3 | model2 | parser\n",
    "\n",
    "chain = parallel_chain | merge_chain"
   ]
  },
  {
   "cell_type": "code",
   "execution_count": 12,
   "id": "7d9a4122",
   "metadata": {},
   "outputs": [],
   "source": [
    "text = \"\"\"\n",
    "Binary Search is a highly efficient searching algorithm used to locate a target element in a sorted array or list.\n",
    "It follows the principle of divide and conquer, which means that instead of scanning each element sequentially, it repeatedly divides the search interval in half until the element is found or the interval becomes empty.\n",
    "The process begins by comparing the target value with the middle element of the array.\n",
    "If the target matches the middle element, its index is returned.\n",
    "If the target is smaller, the algorithm continues searching in the left half; if larger, it searches in the right half.\n",
    "This halving process ensures that with each step, the number of elements under consideration is reduced by half, making the search significantly faster than linear search for large datasets. Binary search has a best-case time complexity of O(1) when the target is found immediately at the middle, and an average and worst-case time complexity of O(log n), \n",
    "since the search space is halved at each iteration. \n",
    "The iterative implementation of binary search requires only constant auxiliary space, whereas the recursive implementation requires O(log n) space due to recursive function calls. \n",
    "While it is extremely efficient on sorted data, binary search cannot be applied to unsorted arrays without preprocessing. Despite this limitation, it remains one of the most fundamental and widely used algorithms in computer science due to its efficiency, simplicity, and predictable logarithmic performance.\n",
    "\"\"\""
   ]
  },
  {
   "cell_type": "code",
   "execution_count": 14,
   "id": "24588e16",
   "metadata": {},
   "outputs": [
    {
     "name": "stdout",
     "output_type": "stream",
     "text": [
      "## Binary Search Notes and Quiz\n",
      "\n",
      "**What it does:**\n",
      "\n",
      "* Finds a target value in a *sorted* array.\n",
      "\n",
      "**How it works:**\n",
      "\n",
      "1. **Divide and Conquer:** Repeatedly divides the search interval in half.\n",
      "2. **Comparison:** Compares the target value to the middle element.\n",
      "3. **Narrowing:**\n",
      "    * If target matches the middle, done!\n",
      "    * If target is smaller, search the left half.\n",
      "    * If target is larger, search the right half.\n",
      "\n",
      "**Advantages:**\n",
      "\n",
      "* **Very efficient:** Much faster than linear search for large datasets.\n",
      "* **Logarithmic time complexity:**\n",
      "    * Best case: O(1) (target at the middle)\n",
      "    * Average & Worst case: O(log n)\n",
      "\n",
      "**Disadvantages:**\n",
      "\n",
      "* **Requires sorted data:** Can't be used on unsorted arrays without sorting first.\n",
      "\n",
      "**Space Complexity:**\n",
      "\n",
      "* Iterative: O(1) (constant space)\n",
      "* Recursive: O(log n) (due to function calls)\n",
      "\n",
      "**Key Points:**\n",
      "\n",
      "* Fundamental algorithm in computer science.\n",
      "* Widely used due to efficiency and predictable performance.\n",
      "\n",
      "### Quiz\n",
      "\n",
      "1. **What is the basic principle of Binary Search?**\n",
      "Answer: The principle of divide and conquer, where the search interval is repeatedly divided in half.\n",
      "\n",
      "2. **What happens if the target value matches the middle element in Binary Search?**\n",
      "Answer: The index of the middle element is returned.\n",
      "\n",
      "3. **What is the time complexity of Binary Search in the best-case scenario?**\n",
      "Answer: O(1), when the target is found immediately at the middle.\n",
      "\n",
      "4. **How much auxiliary space does the iterative implementation of Binary Search require?**\n",
      "Answer: Only constant auxiliary space.\n",
      "\n",
      "5. **Can Binary Search be applied to unsorted arrays without preprocessing?**\n",
      "Answer: No, Binary Search requires a sorted array or list.\n"
     ]
    }
   ],
   "source": [
    "print(chain.invoke({\"text\": text}))"
   ]
  },
  {
   "cell_type": "code",
   "execution_count": 15,
   "id": "280ae0ef",
   "metadata": {},
   "outputs": [
    {
     "name": "stdout",
     "output_type": "stream",
     "text": [
      "          +---------------------------+            \n",
      "          | Parallel<notes,quiz>Input |            \n",
      "          +---------------------------+            \n",
      "                ***             ***                \n",
      "              **                   **              \n",
      "            **                       **            \n",
      "+----------------+              +----------------+ \n",
      "| PromptTemplate |              | PromptTemplate | \n",
      "+----------------+              +----------------+ \n",
      "          *                             *          \n",
      "          *                             *          \n",
      "          *                             *          \n",
      "    +----------+                  +----------+     \n",
      "    | ChatGroq |                  | ChatGroq |     \n",
      "    +----------+                  +----------+     \n",
      "          *                             *          \n",
      "          *                             *          \n",
      "          *                             *          \n",
      "+-----------------+            +-----------------+ \n",
      "| StrOutputParser |            | StrOutputParser | \n",
      "+-----------------+            +-----------------+ \n",
      "                ***             ***                \n",
      "                   **         **                   \n",
      "                     **     **                     \n",
      "          +----------------------------+           \n",
      "          | Parallel<notes,quiz>Output |           \n",
      "          +----------------------------+           \n",
      "                         *                         \n",
      "                         *                         \n",
      "                         *                         \n",
      "                +----------------+                 \n",
      "                | PromptTemplate |                 \n",
      "                +----------------+                 \n",
      "                         *                         \n",
      "                         *                         \n",
      "                         *                         \n",
      "                   +----------+                    \n",
      "                   | ChatGroq |                    \n",
      "                   +----------+                    \n",
      "                         *                         \n",
      "                         *                         \n",
      "                         *                         \n",
      "                +-----------------+                \n",
      "                | StrOutputParser |                \n",
      "                +-----------------+                \n",
      "                         *                         \n",
      "                         *                         \n",
      "                         *                         \n",
      "            +-----------------------+              \n",
      "            | StrOutputParserOutput |              \n",
      "            +-----------------------+              \n"
     ]
    }
   ],
   "source": [
    "chain.get_graph().print_ascii()"
   ]
  }
 ],
 "metadata": {
  "kernelspec": {
   "display_name": "venv",
   "language": "python",
   "name": "python3"
  },
  "language_info": {
   "codemirror_mode": {
    "name": "ipython",
    "version": 3
   },
   "file_extension": ".py",
   "mimetype": "text/x-python",
   "name": "python",
   "nbconvert_exporter": "python",
   "pygments_lexer": "ipython3",
   "version": "3.12.11"
  }
 },
 "nbformat": 4,
 "nbformat_minor": 5
}

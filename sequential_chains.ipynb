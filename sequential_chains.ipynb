{
 "cells": [
  {
   "cell_type": "code",
   "execution_count": 1,
   "id": "4f51c1fd",
   "metadata": {},
   "outputs": [
    {
     "data": {
      "text/plain": [
       "True"
      ]
     },
     "execution_count": 1,
     "metadata": {},
     "output_type": "execute_result"
    }
   ],
   "source": [
    "from langchain_groq import ChatGroq\n",
    "import os\n",
    "from dotenv import load_dotenv\n",
    "load_dotenv()"
   ]
  },
  {
   "cell_type": "code",
   "execution_count": 2,
   "id": "052d9938",
   "metadata": {},
   "outputs": [],
   "source": [
    "groq_api_key=os.getenv(\"GROQ_API_KEY\")\n",
    "os.environ[\"GROQ_API_KEY\"]=groq_api_key\n",
    "llm=ChatGroq(model=\"gemma2-9b-it\")"
   ]
  },
  {
   "cell_type": "code",
   "execution_count": 3,
   "id": "3faeabe7",
   "metadata": {},
   "outputs": [],
   "source": [
    "from langchain_core.prompts import PromptTemplate\n",
    "\n",
    "# 1. Detail report\n",
    "temp1=PromptTemplate(\n",
    "    template=\"Write a detail report on topic : {topic}.\",\n",
    "    input_variables=[\"topic\"],\n",
    ")\n",
    "\n",
    "# 2. Summary\n",
    "temp2=PromptTemplate(\n",
    "    template=\"Write a 5 line summary on the following text.\\n text : {text}.\",\n",
    "    input_variables=[\"text\"],\n",
    ")"
   ]
  },
  {
   "cell_type": "code",
   "execution_count": 4,
   "id": "15e864a5",
   "metadata": {},
   "outputs": [],
   "source": [
    "from langchain_core.output_parsers import StrOutputParser\n",
    "\n",
    "parser=StrOutputParser()"
   ]
  },
  {
   "cell_type": "code",
   "execution_count": 5,
   "id": "853ada4b",
   "metadata": {},
   "outputs": [],
   "source": [
    "chain = temp1 | llm | parser | temp2 | llm | parser"
   ]
  },
  {
   "cell_type": "code",
   "execution_count": 6,
   "id": "f44dd39c",
   "metadata": {},
   "outputs": [
    {
     "data": {
      "text/plain": [
       "'The cashless economy, driven by technology, consumer preference, and government initiatives, offers increased efficiency, security, and financial inclusion. However, it also presents challenges such as the digital divide, cybersecurity risks, privacy concerns, and potential job losses. Governments and industries are working to promote cashless adoption through infrastructure development, incentives, regulations, and digital literacy programs. Successfully navigating this transition requires addressing these challenges to ensure a smooth and equitable shift to a cashless society.  Ultimately, the success of a cashless economy depends on striking a balance between its benefits and risks. \\n\\n\\n'"
      ]
     },
     "execution_count": 6,
     "metadata": {},
     "output_type": "execute_result"
    }
   ],
   "source": [
    "chain.invoke({\"topic\" : \"Cashless Economy\"})"
   ]
  },
  {
   "cell_type": "code",
   "execution_count": null,
   "id": "2bfb3d1e",
   "metadata": {},
   "outputs": [],
   "source": []
  }
 ],
 "metadata": {
  "kernelspec": {
   "display_name": "venv",
   "language": "python",
   "name": "python3"
  },
  "language_info": {
   "codemirror_mode": {
    "name": "ipython",
    "version": 3
   },
   "file_extension": ".py",
   "mimetype": "text/x-python",
   "name": "python",
   "nbconvert_exporter": "python",
   "pygments_lexer": "ipython3",
   "version": "3.12.11"
  }
 },
 "nbformat": 4,
 "nbformat_minor": 5
}
